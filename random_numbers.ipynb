{
 "cells": [
  {
   "cell_type": "code",
   "execution_count": 11,
   "id": "ff6db02c",
   "metadata": {},
   "outputs": [],
   "source": [
    "# Import random module:\n",
    "\n",
    "import random"
   ]
  },
  {
   "cell_type": "code",
   "execution_count": 12,
   "id": "c821f7f1",
   "metadata": {},
   "outputs": [
    {
     "data": {
      "text/plain": [
       "0.34941261162457804"
      ]
     },
     "execution_count": 12,
     "metadata": {},
     "output_type": "execute_result"
    }
   ],
   "source": [
    "# Random Method (generates random float number):\n",
    "\n",
    "random.random()"
   ]
  },
  {
   "cell_type": "code",
   "execution_count": 13,
   "id": "66ee7456",
   "metadata": {},
   "outputs": [
    {
     "data": {
      "text/plain": [
       "-7"
      ]
     },
     "execution_count": 13,
     "metadata": {},
     "output_type": "execute_result"
    }
   ],
   "source": [
    "# Random Integer (generates a random int within a range):\n",
    "\n",
    "random.randint(-10,10)"
   ]
  },
  {
   "cell_type": "code",
   "execution_count": 14,
   "id": "746c2e4e",
   "metadata": {},
   "outputs": [
    {
     "data": {
      "text/plain": [
       "1"
      ]
     },
     "execution_count": 14,
     "metadata": {},
     "output_type": "execute_result"
    }
   ],
   "source": [
    "# Random Range (generates a random int within a range limited by step number):\n",
    "\n",
    "random.randrange(-9,9,2)"
   ]
  },
  {
   "cell_type": "code",
   "execution_count": 15,
   "id": "03c7ffa5",
   "metadata": {},
   "outputs": [
    {
     "data": {
      "text/plain": [
       "-1.771585451118689"
      ]
     },
     "execution_count": 15,
     "metadata": {},
     "output_type": "execute_result"
    }
   ],
   "source": [
    "# Random Uniform (generates a random number within a range):\n",
    "\n",
    "random.uniform(-10,10)"
   ]
  },
  {
   "cell_type": "code",
   "execution_count": 16,
   "id": "a8b5c441",
   "metadata": {},
   "outputs": [],
   "source": [
    "## Creating random latitudes:"
   ]
  },
  {
   "cell_type": "code",
   "execution_count": 17,
   "id": "a9816109",
   "metadata": {},
   "outputs": [
    {
     "data": {
      "text/plain": [
       "-58.840277196294046"
      ]
     },
     "execution_count": 17,
     "metadata": {},
     "output_type": "execute_result"
    }
   ],
   "source": [
    "random_number = random.randint(-90, 89) + random.random()\n",
    "random_number"
   ]
  },
  {
   "cell_type": "code",
   "execution_count": 20,
   "id": "6ff8b472",
   "metadata": {},
   "outputs": [
    {
     "data": {
      "text/plain": [
       "[-20.970199788542207,\n",
       " 89.50032869225146,\n",
       " 58.63126052609709,\n",
       " 37.46649578683708,\n",
       " 83.92342583197741,\n",
       " 70.98898428301433,\n",
       " -11.353562316371205,\n",
       " 1.4653850044145056,\n",
       " -2.6835602949294555,\n",
       " -39.24614659559642]"
      ]
     },
     "execution_count": 20,
     "metadata": {},
     "output_type": "execute_result"
    }
   ],
   "source": [
    "x=1\n",
    "latitudes = []\n",
    "while x <11:\n",
    "    random_lat = random.randint(-90, 89) + random.random()\n",
    "    latitudes.append(random_lat)\n",
    "    x+=1\n",
    "    \n",
    "latitudes"
   ]
  },
  {
   "cell_type": "code",
   "execution_count": null,
   "id": "7e9c6037",
   "metadata": {},
   "outputs": [],
   "source": [
    "# Creating Latitudes using the randrange() Function:"
   ]
  },
  {
   "cell_type": "code",
   "execution_count": 21,
   "id": "70c914d7",
   "metadata": {},
   "outputs": [
    {
     "data": {
      "text/plain": [
       "53"
      ]
     },
     "execution_count": 21,
     "metadata": {},
     "output_type": "execute_result"
    }
   ],
   "source": [
    "random.randrange(-90,90,step=1)"
   ]
  },
  {
   "cell_type": "code",
   "execution_count": 22,
   "id": "394419c1",
   "metadata": {},
   "outputs": [
    {
     "data": {
      "text/plain": [
       "-33"
      ]
     },
     "execution_count": 22,
     "metadata": {},
     "output_type": "execute_result"
    }
   ],
   "source": [
    "random.randrange(-90,90,step=3)"
   ]
  },
  {
   "cell_type": "code",
   "execution_count": 23,
   "id": "15122a68",
   "metadata": {},
   "outputs": [
    {
     "data": {
      "text/plain": [
       "-28.56744206448242"
      ]
     },
     "execution_count": 23,
     "metadata": {},
     "output_type": "execute_result"
    }
   ],
   "source": [
    "# Creating Latitudes using the uniform() Function:\n",
    "random.uniform(-90,90)"
   ]
  },
  {
   "cell_type": "code",
   "execution_count": 25,
   "id": "2d93a9ce",
   "metadata": {},
   "outputs": [],
   "source": [
    "# Import NumPy:\n",
    "\n",
    "import numpy as np"
   ]
  },
  {
   "cell_type": "code",
   "execution_count": 27,
   "id": "ddb3e520",
   "metadata": {
    "scrolled": true
   },
   "outputs": [
    {
     "data": {
      "text/plain": [
       "array([-56.48123133,  78.53620225, -65.85644521,  25.34146026,\n",
       "       -41.93398035,  17.18716456,  -3.90084591,  74.10969506,\n",
       "       -26.42594176, -69.9022022 , -72.42336621,  62.65849679,\n",
       "        40.54449193, -32.18274641,   5.0322867 ,  -4.18012181,\n",
       "        35.9674847 , -51.12406626, -88.36081669, -74.53372332,\n",
       "        11.24977855, -22.50981844, -59.21080506,  65.89297094,\n",
       "        37.60950313, -63.7405391 , -67.08212751,  64.25175906,\n",
       "        -9.70943552,  86.32942578, -17.8117081 , -35.58343843,\n",
       "       -45.27773472, -82.94716988,   2.43294414,  69.47067034,\n",
       "       -56.71737972, -19.26995187, -64.02695282, -64.80376636,\n",
       "       -11.89117847, -11.12816698,  34.82725256, -57.24186765,\n",
       "       -74.94075281,  54.60929814, -79.32451645,   9.70651164,\n",
       "       -67.32965956,   2.96287623])"
      ]
     },
     "execution_count": 27,
     "metadata": {},
     "output_type": "execute_result"
    }
   ],
   "source": [
    "np.random.uniform(-90.000, 90.000, size=50)"
   ]
  },
  {
   "cell_type": "code",
   "execution_count": 28,
   "id": "04123493",
   "metadata": {},
   "outputs": [],
   "source": [
    "# Import timeit:\n",
    "\n",
    "import timeit"
   ]
  },
  {
   "cell_type": "code",
   "execution_count": 29,
   "id": "4fb472a6",
   "metadata": {},
   "outputs": [
    {
     "name": "stdout",
     "output_type": "stream",
     "text": [
      "31.3 µs ± 1.04 µs per loop (mean ± std. dev. of 7 runs, 10000 loops each)\n"
     ]
    }
   ],
   "source": [
    "%timeit np.random.uniform(-90.000, 90.000, size = 1500)"
   ]
  },
  {
   "cell_type": "code",
   "execution_count": 30,
   "id": "2ce085bc",
   "metadata": {},
   "outputs": [
    {
     "name": "stdout",
     "output_type": "stream",
     "text": [
      "3.2 ms ± 74.5 µs per loop (mean ± std. dev. of 7 runs, 100 loops each)\n"
     ]
    }
   ],
   "source": [
    "def latitudes(size):\n",
    "    latitudes = []\n",
    "    x = 0\n",
    "    while x < (size):\n",
    "        random_lat = random.randint(-90, 90) + random.random()\n",
    "        latitudes.append(random_lat)\n",
    "        x += 1\n",
    "    return latitudes\n",
    "\n",
    "# Call the function with 1500:\n",
    "%timeit latitudes(1500)"
   ]
  }
 ],
 "metadata": {
  "kernelspec": {
   "display_name": "PythonData",
   "language": "python",
   "name": "pythondata"
  },
  "language_info": {
   "codemirror_mode": {
    "name": "ipython",
    "version": 3
   },
   "file_extension": ".py",
   "mimetype": "text/x-python",
   "name": "python",
   "nbconvert_exporter": "python",
   "pygments_lexer": "ipython3",
   "version": "3.7.13"
  }
 },
 "nbformat": 4,
 "nbformat_minor": 5
}
